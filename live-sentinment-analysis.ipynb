{
 "cells": [
  {
   "cell_type": "markdown",
   "metadata": {},
   "source": [
    "# Live sentiment analysis - Demo day\n",
    "\n",
    "This notebook is the main entry point to run the live sentiment analysis by using the Twitter API and the dashboarding tools selected so far, as well as a messages broker to process the incoming Twitter data.\n",
    "\n",
    "The diagram below shows the overall architecture of the services to run.\n",
    "\n",
    "![Architecture diagram](./imgs/architecture.png \"General Architecture\")\n",
    "\n",
    "Major services will be hosted in the cloud with managed alternatives:\n",
    "\n",
    "* Kafka: Hosted by Confluent cloud under the free tier.\n",
    "* Elasticsearch: Hosted by Elastic under the free tier.\n",
    "\n",
    "Both hosted providers make the development easier by giving guidance on how to connect and setup clients for their respective platforms."
   ]
  },
  {
   "cell_type": "markdown",
   "metadata": {},
   "source": [
    "## Python producer\n",
    "\n",
    "A Python producer was created with the [onboarding steps](https://docs.confluent.io/platform/current/tutorials/examples/clients/docs/python.html?utm_source=github&utm_medium=demo&utm_campaign=ch.examples_type.community_content.clients-ccloud) obtained in Confluent Cloud.\n",
    "\n",
    "> Special steps were followed to install the `confluent-kafka` python library in an M1 machine, see [this issue's comment](https://github.com/confluentinc/confluent-kafka-python/issues/1190#issuecomment-1195952767).\n",
    "\n",
    "Once the steps were followed in the above linked resources, the first messages were seen in Confluent cloud, these messages were not related to Twitter's data, but to simple integer messages.\n",
    "\n",
    "![Messages produced via CLI](./imgs/cli-sample-producer.png)\n",
    "\n",
    "The image above shows the CLI sample producer obtained from the Confluent Cloud setup page, it shows the application working properly with the installed dependencies. This base code will be employed to build the actual producer to send Tweet data into the topic.\n",
    "\n",
    "![Messages in Confluent](./imgs/confluent-messages.png \"Messages in confluent cloud\")\n",
    "\n",
    "The above image shows the produces messages in the Confluent Cloud UI.\n"
   ]
  },
  {
   "cell_type": "markdown",
   "metadata": {},
   "source": [
    "### Producing Tweets\n",
    "\n",
    "By using the Twitter client seen during the Project update N. 2 ([notebook](./hugging-face.ipynb)) the code below retrieves sample tweet data and produces it into the Kafka client.\n",
    "\n",
    "The code below expects a configuration file to provide the Kafka provider with the right parameters to connect to the Confluent cluster. The `ccloud_lib` utilities file was borrowed from the original sample code from Confluent."
   ]
  },
  {
   "cell_type": "code",
   "execution_count": 32,
   "metadata": {},
   "outputs": [],
   "source": [
    "from confluent_kafka import Producer, KafkaError\n",
    "import ccloud_lib\n",
    "import json"
   ]
  },
  {
   "cell_type": "code",
   "execution_count": 43,
   "metadata": {},
   "outputs": [],
   "source": [
    "class BaseProducer:\n",
    "    \"\"\"Defines the basic connectivity to reach Kafka instance hosted in Confluent Cloud\"\"\"\n",
    "    def __init__(self, config_file, topic):\n",
    "        \"\"\"Creates a BaedProducer with the provided configuration and topic\n",
    "        \"\"\"\n",
    "\n",
    "        conf = ccloud_lib.read_ccloud_config(config_file)\n",
    "\n",
    "        producer_conf = ccloud_lib.pop_schema_registry_params_from_config(conf)\n",
    "        self.producer = Producer(producer_conf)\n",
    "\n",
    "        self.topic = topic\n",
    "        ccloud_lib.create_topic(conf, topic)\n",
    "\n",
    "        self.delivered_records = 0\n",
    "\n",
    "    def acked(self, err, msg):\n",
    "        \"\"\"Delivery report handler called on\n",
    "        successful or failed delivery of message\n",
    "        \"\"\"\n",
    "        if err is not None:\n",
    "            print(\"Failed to deliver message: {}\".format(err))\n",
    "        else:\n",
    "            self.delivered_records += 1\n",
    "            print(\"Produced record to topic {} partition [{}] @ offset {}\".format(msg.topic(), msg.partition(), msg.offset()))\n",
    "\n",
    "    def produce(self, values):\n",
    "        for v in values:\n",
    "            record_key = str(v['id'])\n",
    "            record_value = json.dumps(v)\n",
    "            \n",
    "            print(\"Producing record: {}: {}\".format(record_key, record_value))\n",
    "            \n",
    "            self.producer.produce(self.topic, key=record_key, value=record_value, on_delivery=self.acked)\n",
    "            # p.poll() serves delivery reports (on_delivery)\n",
    "            # from previous produce() calls.\n",
    "            self.producer.poll(0)\n",
    "\n",
    "        self.producer.flush()\n",
    "\n",
    "        print(\"{} messages were produced to topic {}!\".format(self.delivered_records, self.topic))\n"
   ]
  },
  {
   "cell_type": "markdown",
   "metadata": {},
   "source": [
    "Before continuing, the `BaseProducer` needs to be somehow tested, so that it can be fixed in case we are not able to produce data. Let's start by loading some of the available sample data we have."
   ]
  },
  {
   "cell_type": "code",
   "execution_count": 5,
   "metadata": {},
   "outputs": [],
   "source": [
    "import pandas as pd"
   ]
  },
  {
   "cell_type": "code",
   "execution_count": 37,
   "metadata": {},
   "outputs": [],
   "source": [
    "def sample_data(airline, filename, sample_size=10):\n",
    "    aircanada_df = pd.read_csv(filename)\n",
    "    aircanada_sample_df = aircanada_df.sample(sample_size)\n",
    "\n",
    "    for i in range(aircanada_sample_df.iloc[:, 1:].shape[0]):\n",
    "        row_json = aircanada_df.iloc[i, 1:].to_dict()\n",
    "        row_json['airline'] = airline\n",
    "        yield row_json"
   ]
  },
  {
   "cell_type": "code",
   "execution_count": 44,
   "metadata": {},
   "outputs": [],
   "source": [
    "gen = sample_data('aircanada', './fresh_data/aircanada_sample_07072022_210411.csv')"
   ]
  },
  {
   "cell_type": "code",
   "execution_count": 45,
   "metadata": {},
   "outputs": [
    {
     "name": "stderr",
     "output_type": "stream",
     "text": [
      "%4|1658881047.827|CONFWARN|rdkafka#producer-9| [thrd:app]: Configuration property session.timeout.ms is a consumer property and will be ignored by this producer instance\n",
      "%4|1658881047.832|CONFWARN|rdkafka#producer-10| [thrd:app]: Configuration property session.timeout.ms is a consumer property and will be ignored by this producer instance\n"
     ]
    }
   ],
   "source": [
    "producer = BaseProducer('./config.properties', 'twitter-data-test')"
   ]
  },
  {
   "cell_type": "code",
   "execution_count": 46,
   "metadata": {},
   "outputs": [
    {
     "name": "stdout",
     "output_type": "stream",
     "text": [
      "Producing record: 1545212028247220225: {\"created_at\": \"2022-07-08T01:03:50.000Z\", \"id\": 1545212028247220225, \"text\": \"RT @mcdowell_norm: @OmarAlghabra @AirCanada Best thing you can do is RESIGN!\", \"airline\": \"aircanada\"}\n",
      "Producing record: 1545212013227479040: {\"created_at\": \"2022-07-08T01:03:47.000Z\", \"id\": 1545212013227479040, \"text\": \"@OmarAlghabra @AirCanada End the masks. End the mandates. End the ArriveCAN app. Problem solved\", \"airline\": \"aircanada\"}\n",
      "Producing record: 1545211993564610561: {\"created_at\": \"2022-07-08T01:03:42.000Z\", \"id\": 1545211993564610561, \"text\": \"@OmarAlghabra @AirCanada Remember you recently said out -of-practice travellers  are causing delays at security checkpoints ?  I do\", \"airline\": \"aircanada\"}\n",
      "Producing record: 1545211956495130625: {\"created_at\": \"2022-07-08T01:03:33.000Z\", \"id\": 1545211956495130625, \"text\": \"@OmarAlghabra @AirCanada You have to return to the operations that were in place in 2019 and prior. Eliminate all mandates, apps, and restrictions. Offer an olive branch to all those employees you fired. More rules and regulations just cause delays. Everyone knows that and so should you.\", \"airline\": \"aircanada\"}\n",
      "Producing record: 1545211910630817792: {\"created_at\": \"2022-07-08T01:03:22.000Z\", \"id\": 1545211910630817792, \"text\": \"RT @SamS96095050: @AirCanada Hello Air Canada, i made a complaint on June 22 but no one have even replied. Could you please at least reply?\\u2026\", \"airline\": \"aircanada\"}\n",
      "Producing record: 1545211783363043332: {\"created_at\": \"2022-07-08T01:02:52.000Z\", \"id\": 1545211783363043332, \"text\": \"HOW CAN ANYONE GET A HOLD OF @AirCanada IF THEY DONT LET PEOPLE BE PUT ON HOLD? AC, your site says I have to call to change my flight but I can't get a hold of anyone! This is such a horrible set up. Please respond to my DM from June 15th!\", \"airline\": \"aircanada\"}\n",
      "Producing record: 1545211747312738304: {\"created_at\": \"2022-07-08T01:02:43.000Z\", \"id\": 1545211747312738304, \"text\": \"No progress or updates on my lost baggage still after 12 days and one visit to the airport. #AirCanada @AirCanada\", \"airline\": \"aircanada\"}\n",
      "Producing record: 1545211630820130819: {\"created_at\": \"2022-07-08T01:02:16.000Z\", \"id\": 1545211630820130819, \"text\": \"RT @Fernand55591815: Ayuda por favor. Mi hijo vuelve a EEUU via Canad\\u00e1 donde tiene 7 hs de escala, le dicen que necesita una visa, no puede\\u2026\", \"airline\": \"aircanada\"}\n",
      "Producing record: 1545211172651147265: {\"created_at\": \"2022-07-08T01:00:26.000Z\", \"id\": 1545211172651147265, \"text\": \"@ownbossmusic @AirCanada Poha man, foda isso\", \"airline\": \"aircanada\"}\n",
      "Producing record: 1545211107865935873: {\"created_at\": \"2022-07-08T01:00:11.000Z\", \"id\": 1545211107865935873, \"text\": \"RT @NiaVardalos: Hello @AirCanada and @aegeanairlines where are my family\\u2019s bags? Four days without five passengers\\u2019 bags. No clothes, no l\\u2026\", \"airline\": \"aircanada\"}\n",
      "Produced record to topic twitter-data-test partition [0] @ offset 0\n",
      "Produced record to topic twitter-data-test partition [0] @ offset 1\n",
      "Produced record to topic twitter-data-test partition [0] @ offset 2\n",
      "Produced record to topic twitter-data-test partition [0] @ offset 3\n",
      "Produced record to topic twitter-data-test partition [0] @ offset 4\n",
      "Produced record to topic twitter-data-test partition [0] @ offset 5\n",
      "Produced record to topic twitter-data-test partition [0] @ offset 6\n",
      "Produced record to topic twitter-data-test partition [0] @ offset 7\n",
      "Produced record to topic twitter-data-test partition [0] @ offset 8\n",
      "Produced record to topic twitter-data-test partition [0] @ offset 9\n",
      "10 messages were produced to topic twitter-data-test!\n"
     ]
    }
   ],
   "source": [
    "producer.produce(gen)"
   ]
  },
  {
   "cell_type": "markdown",
   "metadata": {},
   "source": [
    "With the above running we can see how the twitter data becomes available inside the Kafka Topic.\n",
    "\n",
    "![Twitter data Kafka test](./imgs/twitter-data-test.png \"Twitter Kafka test\")"
   ]
  }
 ],
 "metadata": {
  "kernelspec": {
   "display_name": "Python 3.10.4 ('seng8080-airline')",
   "language": "python",
   "name": "python3"
  },
  "language_info": {
   "codemirror_mode": {
    "name": "ipython",
    "version": 3
   },
   "file_extension": ".py",
   "mimetype": "text/x-python",
   "name": "python",
   "nbconvert_exporter": "python",
   "pygments_lexer": "ipython3",
   "version": "3.10.5"
  },
  "orig_nbformat": 4,
  "vscode": {
   "interpreter": {
    "hash": "3faa287ab027a8268dbfb19990c1f037f5fa6a40392b21c293b8e6fe744593b0"
   }
  }
 },
 "nbformat": 4,
 "nbformat_minor": 2
}
