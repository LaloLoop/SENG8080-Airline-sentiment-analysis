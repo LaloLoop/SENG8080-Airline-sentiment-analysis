{
 "cells": [
  {
   "cell_type": "markdown",
   "metadata": {},
   "source": [
    "# Tweets producer\n",
    "\n",
    "The Tweets data is produced directly from the [sampled data](./fresh_data/) obtained from Tweeter. The code below gets a sample of values from the data sets and produces it into the main topic.\n",
    "\n",
    "The first function below is a slightly modified version of the first sample_data function described in the [live-sentiment-analysis notebook](./live-sentinment-analysis.ipynb)."
   ]
  },
  {
   "cell_type": "code",
   "execution_count": 17,
   "metadata": {},
   "outputs": [],
   "source": [
    "from os import walk\n",
    "from os.path import join\n",
    "import re\n",
    "import glob\n",
    "import pandas as pd\n",
    "import time\n",
    "import sentiment_analysis as sa"
   ]
  },
  {
   "cell_type": "code",
   "execution_count": 18,
   "metadata": {},
   "outputs": [],
   "source": [
    "def sample_data(airline, filename, sample_size=10):\n",
    "    sheet_df = pd.read_csv(filename)\n",
    "    sample_df = sheet_df.sample(sample_size)\n",
    "\n",
    "    for i in range(sample_df.iloc[:, 1:].shape[0]):\n",
    "        row_json = sheet_df.iloc[i, 1:].to_dict()\n",
    "        row_json['airline'] = airline\n",
    "        yield row_json"
   ]
  },
  {
   "cell_type": "code",
   "execution_count": 19,
   "metadata": {},
   "outputs": [
    {
     "name": "stderr",
     "output_type": "stream",
     "text": [
      "%4|1658964393.649|CONFWARN|rdkafka#producer-1| [thrd:app]: Configuration property session.timeout.ms is a consumer property and will be ignored by this producer instance\n",
      "%4|1658964393.659|CONFWARN|rdkafka#producer-2| [thrd:app]: Configuration property session.timeout.ms is a consumer property and will be ignored by this producer instance\n"
     ]
    }
   ],
   "source": [
    "producer = sa.BaseProducer('./config.properties', 'twitter-data-test')"
   ]
  },
  {
   "cell_type": "code",
   "execution_count": 20,
   "metadata": {},
   "outputs": [
    {
     "name": "stdout",
     "output_type": "stream",
     "text": [
      "Producing record: 1545206769236025345: {\"created_at\": \"2022-07-08T00:42:56.000Z\", \"id\": 1545206769236025345, \"text\": \"@Matt_Starbucks @AlaskaAir This man has receipts \\ud83d\\ude02\", \"airline\": \"alaskaair\"}\n",
      "Producing record: 1545204008205225984: {\"created_at\": \"2022-07-08T00:31:58.000Z\", \"id\": 1545204008205225984, \"text\": \"@missbeaux @AlaskaAir Congrats, Natalie! I am so excited for you, what you will bring to this role and how the guest will benefit from the products the team will launch! \\u2764\\ufe0f \\u2764\\ufe0f\\u2764\\ufe0f\", \"airline\": \"alaskaair\"}\n",
      "Producing record: 1545203074901233665: {\"created_at\": \"2022-07-08T00:28:16.000Z\", \"id\": 1545203074901233665, \"text\": \"I love you @AlaskaAir\", \"airline\": \"alaskaair\"}\n",
      "Produced record to topic twitter-data-test partition [0] @ offset 20\n",
      "Produced record to topic twitter-data-test partition [0] @ offset 21\n",
      "Produced record to topic twitter-data-test partition [0] @ offset 22\n",
      "3 messages were produced to topic twitter-data-test!\n",
      "Producing record: 1545163668735680513: {\"created_at\": \"2022-07-07T21:51:41.000Z\", \"id\": 1545163668735680513, \"text\": \"How is @airtransat the only Canadian airline that does not honour a full refund within 24 hours of booking?! Sometimes emergencies happen and it was one small grace that most airlines offer. Never flying with @airtransat again!\", \"airline\": \"airtransat\"}\n",
      "Producing record: 1545160318111780864: {\"created_at\": \"2022-07-07T21:38:22.000Z\", \"id\": 1545160318111780864, \"text\": \"@jonnychipz @airtransat just got through in less than 2 hours woooo!\", \"airline\": \"airtransat\"}\n",
      "Producing record: 1545149943949758465: {\"created_at\": \"2022-07-07T20:57:08.000Z\", \"id\": 1545149943949758465, \"text\": \"@qwyn28282828 @airtransat \\ud83e\\udd72\", \"airline\": \"airtransat\"}\n",
      "Produced record to topic twitter-data-test partition [0] @ offset 23\n",
      "Produced record to topic twitter-data-test partition [0] @ offset 24\n",
      "Produced record to topic twitter-data-test partition [0] @ offset 25\n",
      "6 messages were produced to topic twitter-data-test!\n",
      "Producing record: 1545179248763277317: {\"created_at\": \"2022-07-07T22:53:35.000Z\", \"id\": 1545179248763277317, \"text\": \"After taking 9 trips/flights in the last 3 months, wild (in a great way) to finally be on a flight with 90% of folks wearing masks. @porterairlines \\u2764\\ufe0f\", \"airline\": \"porterairlines\"}\n",
      "Producing record: 1545164189521661954: {\"created_at\": \"2022-07-07T21:53:45.000Z\", \"id\": 1545164189521661954, \"text\": \"@fortymaliks @punkasauruslex @AirCanada I\\u2019m extremely glad I\\u2019m flying @porterairlines tomorrow to NYC. I\\u2019d never get there otherwise.\", \"airline\": \"porterairlines\"}\n",
      "Producing record: 1545146103741517826: {\"created_at\": \"2022-07-07T20:41:53.000Z\", \"id\": 1545146103741517826, \"text\": \"RT @WalkinRobinL: @patgagnon_75 @porterairlines No problem. BB &amp; Porter was a wonderful, stress free experience. Maybe Porter planned their\\u2026\", \"airline\": \"porterairlines\"}\n",
      "Produced record to topic twitter-data-test partition [0] @ offset 26\n",
      "Produced record to topic twitter-data-test partition [0] @ offset 27\n",
      "Produced record to topic twitter-data-test partition [0] @ offset 28\n",
      "9 messages were produced to topic twitter-data-test!\n",
      "Producing record: 1545202926053990400: {\"created_at\": \"2022-07-08T00:27:40.000Z\", \"id\": 1545202926053990400, \"text\": \"So confused why @AmericanAir would put us on an aircraft where the engine was overheating to begin with?\", \"airline\": \"americanair\"}\n",
      "Producing record: 1545202715021778945: {\"created_at\": \"2022-07-08T00:26:50.000Z\", \"id\": 1545202715021778945, \"text\": \"@AmericanAir Just sent it in DM. Thank you\", \"airline\": \"americanair\"}\n",
      "Producing record: 1545202049465327616: {\"created_at\": \"2022-07-08T00:24:11.000Z\", \"id\": 1545202049465327616, \"text\": \"Hey @AmericanAir, with all the complaints, here is a positive. ORF Gate Agent Stephanie is awesome! She helped me reschedule a delayed flight, arranged for my bag to be moved mins before take off and tracked me down to give me my claim ticket. Hire more like her!!!\", \"airline\": \"americanair\"}\n",
      "Produced record to topic twitter-data-test partition [0] @ offset 29\n",
      "Produced record to topic twitter-data-test partition [0] @ offset 30\n",
      "Produced record to topic twitter-data-test partition [0] @ offset 31\n",
      "12 messages were produced to topic twitter-data-test!\n",
      "Producing record: 1545207407365816320: {\"created_at\": \"2022-07-08T00:45:29.000Z\", \"id\": 1545207407365816320, \"text\": \"@txsalth2o @AmericanAir @SouthwestAir I\\u2019d trust my kid to change planes. Probably one of the safest places to let them do something real on their own.\", \"airline\": \"southwestair\"}\n",
      "Producing record: 1545207274007801856: {\"created_at\": \"2022-07-08T00:44:57.000Z\", \"id\": 1545207274007801856, \"text\": \"After flying to Kona from Oakland at the beginning of last month with two Bike Box cases that meet the weight and dimensions I got the oversized/weight fees charged refunded! But apparently as a one time exception. Southwest at Oakland is not bike friendly. @SouthwestAir\", \"airline\": \"southwestair\"}\n",
      "Producing record: 1545206927562625024: {\"created_at\": \"2022-07-08T00:43:34.000Z\", \"id\": 1545206927562625024, \"text\": \"FEC records tell us @SouthwestAir's political donations to insurrectionist candidates post 1/6 totaled $59,500. See who got $ #DonationsAgainstDemocracy https://t.co/ZEGbQ4cb2k\", \"airline\": \"southwestair\"}\n",
      "Produced record to topic twitter-data-test partition [0] @ offset 32\n",
      "Produced record to topic twitter-data-test partition [0] @ offset 33\n",
      "Produced record to topic twitter-data-test partition [0] @ offset 34\n",
      "15 messages were produced to topic twitter-data-test!\n",
      "Producing record: 1545211920851972097: {\"created_at\": \"2022-07-08T01:03:25.000Z\", \"id\": 1545211920851972097, \"text\": \"@OmarAlghabra @WestJet You are actually dumber than Justin https://t.co/thh2jZKEeX\", \"airline\": \"westjet\"}\n",
      "Producing record: 1545211657621610497: {\"created_at\": \"2022-07-08T01:02:22.000Z\", \"id\": 1545211657621610497, \"text\": \"@OmarAlghabra @WestJet Liberal idiot\", \"airline\": \"westjet\"}\n",
      "Producing record: 1545211370131533824: {\"created_at\": \"2022-07-08T01:01:13.000Z\", \"id\": 1545211370131533824, \"text\": \"@AHoensbroech @OmarAlghabra @WestJet Why did you try and hide the black guy in the background behind Omar?  I can see racism in this pic.\", \"airline\": \"westjet\"}\n",
      "Produced record to topic twitter-data-test partition [0] @ offset 35\n",
      "Produced record to topic twitter-data-test partition [0] @ offset 36\n",
      "Produced record to topic twitter-data-test partition [0] @ offset 37\n",
      "18 messages were produced to topic twitter-data-test!\n",
      "Producing record: 1545206394177077250: {\"created_at\": \"2022-07-08T00:41:27.000Z\", \"id\": 1545206394177077250, \"text\": \"RT @FlairAirlines: Our NEW route to Montreal has taken off!\\n\\nToday's service to #YUL was the first of 2 NEW connections launching this week\\u2026\", \"airline\": \"flairairlines\"}\n",
      "Producing record: 1545190210383798282: {\"created_at\": \"2022-07-07T23:37:09.000Z\", \"id\": 1545190210383798282, \"text\": \"@JKal @FlairAirlines Honestly, fantastic.\", \"airline\": \"flairairlines\"}\n",
      "Producing record: 1545189892287737856: {\"created_at\": \"2022-07-07T23:35:53.000Z\", \"id\": 1545189892287737856, \"text\": \"RT @AviationJobsMe: #B737 Non Type Rated First Officers @FlairAirlines Canada #recruitment https://t.co/eKtCm2DT2v https://t.co/JHJc16NUph\", \"airline\": \"flairairlines\"}\n",
      "Produced record to topic twitter-data-test partition [0] @ offset 38\n",
      "Produced record to topic twitter-data-test partition [0] @ offset 39\n",
      "Produced record to topic twitter-data-test partition [0] @ offset 40\n",
      "21 messages were produced to topic twitter-data-test!\n",
      "Producing record: 1545210615156834304: {\"created_at\": \"2022-07-08T00:58:13.000Z\", \"id\": 1545210615156834304, \"text\": \"RT @_angelitonegro_: @eddiemajor @moosechildd @Delta Don\\u2019t let Kanye see this. https://t.co/UwKdxC1iLz\", \"airline\": \"delta\"}\n",
      "Producing record: 1545210595204481025: {\"created_at\": \"2022-07-08T00:58:09.000Z\", \"id\": 1545210595204481025, \"text\": \"RT @moosechildd: what the fuck @Delta https://t.co/Z9FKFhRTvt\", \"airline\": \"delta\"}\n",
      "Producing record: 1545210544336027648: {\"created_at\": \"2022-07-08T00:57:57.000Z\", \"id\": 1545210544336027648, \"text\": \"RT @frannysanchez_: @JoDrizzly @moosechildd @Delta I\\u2019m pretty sure I saw some Prada pants too smh\", \"airline\": \"delta\"}\n",
      "Produced record to topic twitter-data-test partition [0] @ offset 41\n",
      "Produced record to topic twitter-data-test partition [0] @ offset 42\n",
      "Produced record to topic twitter-data-test partition [0] @ offset 43\n",
      "24 messages were produced to topic twitter-data-test!\n",
      "Producing record: 1545180489790529536: {\"created_at\": \"2022-07-07T22:58:31.000Z\", \"id\": 1545180489790529536, \"text\": \"@jonathangooda @Cheryl_Searle @carolyn_mcglynn @carmina_ual @UALNOC @AOSafetyUAL @united  #airline #Airlines https://t.co/EVZBkLm4xn\", \"airline\": \"united\"}\n",
      "Producing record: 1545180281300307968: {\"created_at\": \"2022-07-07T22:57:41.000Z\", \"id\": 1545180281300307968, \"text\": \"@DocReggies @tkausiyo @united Sadly abva afa.\", \"airline\": \"united\"}\n",
      "Producing record: 1545180188484554754: {\"created_at\": \"2022-07-07T22:57:19.000Z\", \"id\": 1545180188484554754, \"text\": \"@RyanPaevey @united Happened to me too once on my return \\u2708\\ufe0f from Johannesburg. I did pre check in,arrived +3 hrs early. I got bumped; agent told me he couldn\\u2019t check in my bag yet,to step aside while he checked in other passengers?!!\\ud83d\\ude21 No explanation. I lost my\\ud83d\\udca9\\ud83d\\ude24.I spoke to manager &amp; got on my\\u2708\\ufe0f\\ud83d\\ude0a\", \"airline\": \"united\"}\n",
      "Produced record to topic twitter-data-test partition [0] @ offset 44\n",
      "Produced record to topic twitter-data-test partition [0] @ offset 45\n",
      "Produced record to topic twitter-data-test partition [0] @ offset 46\n",
      "27 messages were produced to topic twitter-data-test!\n",
      "Producing record: 1545212028247220225: {\"created_at\": \"2022-07-08T01:03:50.000Z\", \"id\": 1545212028247220225, \"text\": \"RT @mcdowell_norm: @OmarAlghabra @AirCanada Best thing you can do is RESIGN!\", \"airline\": \"aircanada\"}\n",
      "Producing record: 1545212013227479040: {\"created_at\": \"2022-07-08T01:03:47.000Z\", \"id\": 1545212013227479040, \"text\": \"@OmarAlghabra @AirCanada End the masks. End the mandates. End the ArriveCAN app. Problem solved\", \"airline\": \"aircanada\"}\n",
      "Producing record: 1545211993564610561: {\"created_at\": \"2022-07-08T01:03:42.000Z\", \"id\": 1545211993564610561, \"text\": \"@OmarAlghabra @AirCanada Remember you recently said out -of-practice travellers  are causing delays at security checkpoints ?  I do\", \"airline\": \"aircanada\"}\n",
      "Produced record to topic twitter-data-test partition [0] @ offset 47\n",
      "Produced record to topic twitter-data-test partition [0] @ offset 48\n",
      "Produced record to topic twitter-data-test partition [0] @ offset 49\n",
      "30 messages were produced to topic twitter-data-test!\n"
     ]
    }
   ],
   "source": [
    "data_path = './fresh_data/'\n",
    "for (_, _, filenames) in walk(data_path):\n",
    "    for f in filenames:\n",
    "        matched = re.match(r'([a-z]*)_', f)\n",
    "\n",
    "        if not matched:\n",
    "            print(f\"{f} is not a valid file skipping\")\n",
    "            continue\n",
    "        \n",
    "        airline = matched.groups()[0]\n",
    "        data_file = join(data_path, f)\n",
    "        \n",
    "        gen = sample_data(airline, data_file, sample_size=3)\n",
    "\n",
    "        producer.produce(gen)"
   ]
  },
  {
   "cell_type": "code",
   "execution_count": 21,
   "metadata": {},
   "outputs": [
    {
     "name": "stdout",
     "output_type": "stream",
     "text": [
      "Producing record: 1545206769236025345: {\"created_at\": \"2022-07-08T00:42:56.000Z\", \"id\": 1545206769236025345, \"text\": \"@Matt_Starbucks @AlaskaAir This man has receipts \\ud83d\\ude02\", \"airline\": \"alaskaair\"}\n",
      "Producing record: 1545204008205225984: {\"created_at\": \"2022-07-08T00:31:58.000Z\", \"id\": 1545204008205225984, \"text\": \"@missbeaux @AlaskaAir Congrats, Natalie! I am so excited for you, what you will bring to this role and how the guest will benefit from the products the team will launch! \\u2764\\ufe0f \\u2764\\ufe0f\\u2764\\ufe0f\", \"airline\": \"alaskaair\"}\n",
      "Producing record: 1545203074901233665: {\"created_at\": \"2022-07-08T00:28:16.000Z\", \"id\": 1545203074901233665, \"text\": \"I love you @AlaskaAir\", \"airline\": \"alaskaair\"}\n",
      "Producing record: 1545202030360178688: {\"created_at\": \"2022-07-08T00:24:07.000Z\", \"id\": 1545202030360178688, \"text\": \"@missbeaux @AlaskaAir Was wondering! Congratulations on the new role! \\ud83c\\udf89\", \"airline\": \"alaskaair\"}\n",
      "Producing record: 1545201862453985282: {\"created_at\": \"2022-07-08T00:23:27.000Z\", \"id\": 1545201862453985282, \"text\": \"@AlaskaAir Um@ I\\u2019m on a 737 max 9 there is literally no A/C cvg to sea right now this plane is scaring me!!! A new plane with no a/c we are all roasting guy behind me needed air sick bag. Help.  A five hour flight with no a/c? The max is scary\", \"airline\": \"alaskaair\"}\n",
      "Produced record to topic twitter-data-test partition [0] @ offset 50\n",
      "Produced record to topic twitter-data-test partition [0] @ offset 51\n",
      "Produced record to topic twitter-data-test partition [0] @ offset 52\n",
      "Produced record to topic twitter-data-test partition [0] @ offset 53\n",
      "Produced record to topic twitter-data-test partition [0] @ offset 54\n",
      "35 messages were produced to topic twitter-data-test!\n",
      "Producing record: 1545163668735680513: {\"created_at\": \"2022-07-07T21:51:41.000Z\", \"id\": 1545163668735680513, \"text\": \"How is @airtransat the only Canadian airline that does not honour a full refund within 24 hours of booking?! Sometimes emergencies happen and it was one small grace that most airlines offer. Never flying with @airtransat again!\", \"airline\": \"airtransat\"}\n",
      "Producing record: 1545160318111780864: {\"created_at\": \"2022-07-07T21:38:22.000Z\", \"id\": 1545160318111780864, \"text\": \"@jonnychipz @airtransat just got through in less than 2 hours woooo!\", \"airline\": \"airtransat\"}\n",
      "Producing record: 1545149943949758465: {\"created_at\": \"2022-07-07T20:57:08.000Z\", \"id\": 1545149943949758465, \"text\": \"@qwyn28282828 @airtransat \\ud83e\\udd72\", \"airline\": \"airtransat\"}\n",
      "Producing record: 1545149799355359234: {\"created_at\": \"2022-07-07T20:56:34.000Z\", \"id\": 1545149799355359234, \"text\": \"@airtransat Now there's no need, I waste my time to go to the airport again and a person from AirTransat help me a lot. Now at least I have some probe that I claim my baggage whereas yesterday no. All the personal who answered me by phone didn't helped me at all 'just wait'.\", \"airline\": \"airtransat\"}\n",
      "Producing record: 1545148978580291586: {\"created_at\": \"2022-07-07T20:53:18.000Z\", \"id\": 1545148978580291586, \"text\": \"@airtransat *reply\", \"airline\": \"airtransat\"}\n",
      "Produced record to topic twitter-data-test partition [0] @ offset 55\n",
      "Produced record to topic twitter-data-test partition [0] @ offset 56\n",
      "Produced record to topic twitter-data-test partition [0] @ offset 57\n",
      "Produced record to topic twitter-data-test partition [0] @ offset 58\n",
      "Produced record to topic twitter-data-test partition [0] @ offset 59\n",
      "40 messages were produced to topic twitter-data-test!\n",
      "Producing record: 1545179248763277317: {\"created_at\": \"2022-07-07T22:53:35.000Z\", \"id\": 1545179248763277317, \"text\": \"After taking 9 trips/flights in the last 3 months, wild (in a great way) to finally be on a flight with 90% of folks wearing masks. @porterairlines \\u2764\\ufe0f\", \"airline\": \"porterairlines\"}\n",
      "Producing record: 1545164189521661954: {\"created_at\": \"2022-07-07T21:53:45.000Z\", \"id\": 1545164189521661954, \"text\": \"@fortymaliks @punkasauruslex @AirCanada I\\u2019m extremely glad I\\u2019m flying @porterairlines tomorrow to NYC. I\\u2019d never get there otherwise.\", \"airline\": \"porterairlines\"}\n",
      "Producing record: 1545146103741517826: {\"created_at\": \"2022-07-07T20:41:53.000Z\", \"id\": 1545146103741517826, \"text\": \"RT @WalkinRobinL: @patgagnon_75 @porterairlines No problem. BB &amp; Porter was a wonderful, stress free experience. Maybe Porter planned their\\u2026\", \"airline\": \"porterairlines\"}\n",
      "Producing record: 1545145499627540481: {\"created_at\": \"2022-07-07T20:39:29.000Z\", \"id\": 1545145499627540481, \"text\": \"@patgagnon_75 @porterairlines No problem. BB &amp; Porter was a wonderful, stress free experience. Maybe Porter planned their resumption by not over scheduling and over booking. I will avoid @TorontoPearson @AirCanada @WestJet at ALL costs. Where are the billions the Feds gave them for support?\", \"airline\": \"porterairlines\"}\n",
      "Producing record: 1545143857976938502: {\"created_at\": \"2022-07-07T20:32:57.000Z\", \"id\": 1545143857976938502, \"text\": \"@WalkinRobinL @porterairlines Thank you for sharing the information \\ud83d\\ude0a\", \"airline\": \"porterairlines\"}\n",
      "Produced record to topic twitter-data-test partition [0] @ offset 60\n",
      "Produced record to topic twitter-data-test partition [0] @ offset 61\n",
      "Produced record to topic twitter-data-test partition [0] @ offset 62\n",
      "Produced record to topic twitter-data-test partition [0] @ offset 63\n",
      "Produced record to topic twitter-data-test partition [0] @ offset 64\n",
      "45 messages were produced to topic twitter-data-test!\n",
      "Producing record: 1545202926053990400: {\"created_at\": \"2022-07-08T00:27:40.000Z\", \"id\": 1545202926053990400, \"text\": \"So confused why @AmericanAir would put us on an aircraft where the engine was overheating to begin with?\", \"airline\": \"americanair\"}\n",
      "Producing record: 1545202715021778945: {\"created_at\": \"2022-07-08T00:26:50.000Z\", \"id\": 1545202715021778945, \"text\": \"@AmericanAir Just sent it in DM. Thank you\", \"airline\": \"americanair\"}\n",
      "Producing record: 1545202049465327616: {\"created_at\": \"2022-07-08T00:24:11.000Z\", \"id\": 1545202049465327616, \"text\": \"Hey @AmericanAir, with all the complaints, here is a positive. ORF Gate Agent Stephanie is awesome! She helped me reschedule a delayed flight, arranged for my bag to be moved mins before take off and tracked me down to give me my claim ticket. Hire more like her!!!\", \"airline\": \"americanair\"}\n",
      "Producing record: 1545202024328855553: {\"created_at\": \"2022-07-08T00:24:05.000Z\", \"id\": 1545202024328855553, \"text\": \"@AmericanAir Please help me! I\\u2019ve spent all most 2 hours on phone and was told they could not assist me. I need to talk to a customer service rep pronto about a cancelled flight.\", \"airline\": \"americanair\"}\n",
      "Producing record: 1545201871257755648: {\"created_at\": \"2022-07-08T00:23:29.000Z\", \"id\": 1545201871257755648, \"text\": \"RT @bredmor: Hey @AmericanAir why did you cancel my flight with no notification to me? No email, no text, no call. You just cancelled my fl\\u2026\", \"airline\": \"americanair\"}\n",
      "Produced record to topic twitter-data-test partition [0] @ offset 65\n",
      "Produced record to topic twitter-data-test partition [0] @ offset 66\n",
      "Produced record to topic twitter-data-test partition [0] @ offset 67\n",
      "Produced record to topic twitter-data-test partition [0] @ offset 68\n",
      "Produced record to topic twitter-data-test partition [0] @ offset 69\n",
      "50 messages were produced to topic twitter-data-test!\n",
      "Producing record: 1545207407365816320: {\"created_at\": \"2022-07-08T00:45:29.000Z\", \"id\": 1545207407365816320, \"text\": \"@txsalth2o @AmericanAir @SouthwestAir I\\u2019d trust my kid to change planes. Probably one of the safest places to let them do something real on their own.\", \"airline\": \"southwestair\"}\n",
      "Producing record: 1545207274007801856: {\"created_at\": \"2022-07-08T00:44:57.000Z\", \"id\": 1545207274007801856, \"text\": \"After flying to Kona from Oakland at the beginning of last month with two Bike Box cases that meet the weight and dimensions I got the oversized/weight fees charged refunded! But apparently as a one time exception. Southwest at Oakland is not bike friendly. @SouthwestAir\", \"airline\": \"southwestair\"}\n",
      "Producing record: 1545206927562625024: {\"created_at\": \"2022-07-08T00:43:34.000Z\", \"id\": 1545206927562625024, \"text\": \"FEC records tell us @SouthwestAir's political donations to insurrectionist candidates post 1/6 totaled $59,500. See who got $ #DonationsAgainstDemocracy https://t.co/ZEGbQ4cb2k\", \"airline\": \"southwestair\"}\n",
      "Producing record: 1545206861003096064: {\"created_at\": \"2022-07-08T00:43:18.000Z\", \"id\": 1545206861003096064, \"text\": \"@txsalth2o @AmericanAir @SouthwestAir If it makes you feel any better, it's been the same price for at least 5 years. \\ud83e\\udd37\\ud83c\\udffc\\u200d\\u2640\\ufe0f\\n#Somethingthatdidntincreasewithinflation\", \"airline\": \"southwestair\"}\n",
      "Producing record: 1545206199859044352: {\"created_at\": \"2022-07-08T00:40:41.000Z\", \"id\": 1545206199859044352, \"text\": \"@SouthwestAir me just trying to be home already\", \"airline\": \"southwestair\"}\n",
      "Produced record to topic twitter-data-test partition [0] @ offset 70\n",
      "Produced record to topic twitter-data-test partition [0] @ offset 71\n",
      "Produced record to topic twitter-data-test partition [0] @ offset 72\n",
      "Produced record to topic twitter-data-test partition [0] @ offset 73\n",
      "Produced record to topic twitter-data-test partition [0] @ offset 74\n",
      "55 messages were produced to topic twitter-data-test!\n",
      "Producing record: 1545211920851972097: {\"created_at\": \"2022-07-08T01:03:25.000Z\", \"id\": 1545211920851972097, \"text\": \"@OmarAlghabra @WestJet You are actually dumber than Justin https://t.co/thh2jZKEeX\", \"airline\": \"westjet\"}\n",
      "Producing record: 1545211657621610497: {\"created_at\": \"2022-07-08T01:02:22.000Z\", \"id\": 1545211657621610497, \"text\": \"@OmarAlghabra @WestJet Liberal idiot\", \"airline\": \"westjet\"}\n",
      "Producing record: 1545211370131533824: {\"created_at\": \"2022-07-08T01:01:13.000Z\", \"id\": 1545211370131533824, \"text\": \"@AHoensbroech @OmarAlghabra @WestJet Why did you try and hide the black guy in the background behind Omar?  I can see racism in this pic.\", \"airline\": \"westjet\"}\n",
      "Producing record: 1545210988709851136: {\"created_at\": \"2022-07-08T00:59:42.000Z\", \"id\": 1545210988709851136, \"text\": \"@AHoensbroech @OmarAlghabra @WestJet You mean \\u201cAll hands to yourselves\\u201d you ass grabbing rascals.\", \"airline\": \"westjet\"}\n",
      "Producing record: 1545210948348174336: {\"created_at\": \"2022-07-08T00:59:33.000Z\", \"id\": 1545210948348174336, \"text\": \"@OmarAlghabra @WestJet Why the masks? The pandemic is over\", \"airline\": \"westjet\"}\n",
      "Produced record to topic twitter-data-test partition [0] @ offset 75\n",
      "Produced record to topic twitter-data-test partition [0] @ offset 76\n",
      "Produced record to topic twitter-data-test partition [0] @ offset 77\n",
      "Produced record to topic twitter-data-test partition [0] @ offset 78\n",
      "Produced record to topic twitter-data-test partition [0] @ offset 79\n",
      "60 messages were produced to topic twitter-data-test!\n",
      "Producing record: 1545206394177077250: {\"created_at\": \"2022-07-08T00:41:27.000Z\", \"id\": 1545206394177077250, \"text\": \"RT @FlairAirlines: Our NEW route to Montreal has taken off!\\n\\nToday's service to #YUL was the first of 2 NEW connections launching this week\\u2026\", \"airline\": \"flairairlines\"}\n",
      "Producing record: 1545190210383798282: {\"created_at\": \"2022-07-07T23:37:09.000Z\", \"id\": 1545190210383798282, \"text\": \"@JKal @FlairAirlines Honestly, fantastic.\", \"airline\": \"flairairlines\"}\n",
      "Producing record: 1545189892287737856: {\"created_at\": \"2022-07-07T23:35:53.000Z\", \"id\": 1545189892287737856, \"text\": \"RT @AviationJobsMe: #B737 Non Type Rated First Officers @FlairAirlines Canada #recruitment https://t.co/eKtCm2DT2v https://t.co/JHJc16NUph\", \"airline\": \"flairairlines\"}\n",
      "Producing record: 1545188780839440385: {\"created_at\": \"2022-07-07T23:31:28.000Z\", \"id\": 1545188780839440385, \"text\": \"@jedjohns @AirCanada @FlairAirlines balls!\", \"airline\": \"flairairlines\"}\n",
      "Producing record: 1545187537748115457: {\"created_at\": \"2022-07-07T23:26:31.000Z\", \"id\": 1545187537748115457, \"text\": \"@JennJefferys @AirCanada @FlairAirlines not from Edmonton lol \\ud83d\\ude2d\", \"airline\": \"flairairlines\"}\n",
      "Produced record to topic twitter-data-test partition [0] @ offset 80\n",
      "Produced record to topic twitter-data-test partition [0] @ offset 81\n",
      "Produced record to topic twitter-data-test partition [0] @ offset 82\n",
      "Produced record to topic twitter-data-test partition [0] @ offset 83\n",
      "Produced record to topic twitter-data-test partition [0] @ offset 84\n",
      "65 messages were produced to topic twitter-data-test!\n",
      "Producing record: 1545210615156834304: {\"created_at\": \"2022-07-08T00:58:13.000Z\", \"id\": 1545210615156834304, \"text\": \"RT @_angelitonegro_: @eddiemajor @moosechildd @Delta Don\\u2019t let Kanye see this. https://t.co/UwKdxC1iLz\", \"airline\": \"delta\"}\n",
      "Producing record: 1545210595204481025: {\"created_at\": \"2022-07-08T00:58:09.000Z\", \"id\": 1545210595204481025, \"text\": \"RT @moosechildd: what the fuck @Delta https://t.co/Z9FKFhRTvt\", \"airline\": \"delta\"}\n",
      "Producing record: 1545210544336027648: {\"created_at\": \"2022-07-08T00:57:57.000Z\", \"id\": 1545210544336027648, \"text\": \"RT @frannysanchez_: @JoDrizzly @moosechildd @Delta I\\u2019m pretty sure I saw some Prada pants too smh\", \"airline\": \"delta\"}\n",
      "Producing record: 1545210537377763329: {\"created_at\": \"2022-07-08T00:57:55.000Z\", \"id\": 1545210537377763329, \"text\": \"RT @JoDrizzly: @moosechildd @Delta Really sucks that all your Louis Vuitton clothing inside there was ruined during your flight.\", \"airline\": \"delta\"}\n",
      "Producing record: 1545210459401457670: {\"created_at\": \"2022-07-08T00:57:36.000Z\", \"id\": 1545210459401457670, \"text\": \"@moosechildd @Delta How the fuck even\", \"airline\": \"delta\"}\n",
      "Produced record to topic twitter-data-test partition [0] @ offset 85\n",
      "Produced record to topic twitter-data-test partition [0] @ offset 86\n",
      "Produced record to topic twitter-data-test partition [0] @ offset 87\n",
      "Produced record to topic twitter-data-test partition [0] @ offset 88\n",
      "Produced record to topic twitter-data-test partition [0] @ offset 89\n",
      "70 messages were produced to topic twitter-data-test!\n",
      "Producing record: 1545180489790529536: {\"created_at\": \"2022-07-07T22:58:31.000Z\", \"id\": 1545180489790529536, \"text\": \"@jonathangooda @Cheryl_Searle @carolyn_mcglynn @carmina_ual @UALNOC @AOSafetyUAL @united  #airline #Airlines https://t.co/EVZBkLm4xn\", \"airline\": \"united\"}\n",
      "Producing record: 1545180281300307968: {\"created_at\": \"2022-07-07T22:57:41.000Z\", \"id\": 1545180281300307968, \"text\": \"@DocReggies @tkausiyo @united Sadly abva afa.\", \"airline\": \"united\"}\n",
      "Producing record: 1545180188484554754: {\"created_at\": \"2022-07-07T22:57:19.000Z\", \"id\": 1545180188484554754, \"text\": \"@RyanPaevey @united Happened to me too once on my return \\u2708\\ufe0f from Johannesburg. I did pre check in,arrived +3 hrs early. I got bumped; agent told me he couldn\\u2019t check in my bag yet,to step aside while he checked in other passengers?!!\\ud83d\\ude21 No explanation. I lost my\\ud83d\\udca9\\ud83d\\ude24.I spoke to manager &amp; got on my\\u2708\\ufe0f\\ud83d\\ude0a\", \"airline\": \"united\"}\n",
      "Producing record: 1545179659746304005: {\"created_at\": \"2022-07-07T22:55:13.000Z\", \"id\": 1545179659746304005, \"text\": \"@tkausiyo @TapiwaMunjoma @united \\ud83e\\udd23\\ud83e\\udd23\\ud83e\\udd23\", \"airline\": \"united\"}\n",
      "Producing record: 1545179118639099904: {\"created_at\": \"2022-07-07T22:53:04.000Z\", \"id\": 1545179118639099904, \"text\": \"@united What are United\\u2019s stats against a peer, like Delta, instead of a low cost carrier, in a comparable market like NYC? EWR, LGA, JFK. Comparing yourself to Southwest seems to be a disservice to United.\", \"airline\": \"united\"}\n",
      "Produced record to topic twitter-data-test partition [0] @ offset 90\n",
      "Produced record to topic twitter-data-test partition [0] @ offset 91\n",
      "Produced record to topic twitter-data-test partition [0] @ offset 92\n",
      "Produced record to topic twitter-data-test partition [0] @ offset 93\n",
      "Produced record to topic twitter-data-test partition [0] @ offset 94\n",
      "75 messages were produced to topic twitter-data-test!\n",
      "Producing record: 1545212028247220225: {\"created_at\": \"2022-07-08T01:03:50.000Z\", \"id\": 1545212028247220225, \"text\": \"RT @mcdowell_norm: @OmarAlghabra @AirCanada Best thing you can do is RESIGN!\", \"airline\": \"aircanada\"}\n",
      "Producing record: 1545212013227479040: {\"created_at\": \"2022-07-08T01:03:47.000Z\", \"id\": 1545212013227479040, \"text\": \"@OmarAlghabra @AirCanada End the masks. End the mandates. End the ArriveCAN app. Problem solved\", \"airline\": \"aircanada\"}\n",
      "Producing record: 1545211993564610561: {\"created_at\": \"2022-07-08T01:03:42.000Z\", \"id\": 1545211993564610561, \"text\": \"@OmarAlghabra @AirCanada Remember you recently said out -of-practice travellers  are causing delays at security checkpoints ?  I do\", \"airline\": \"aircanada\"}\n",
      "Producing record: 1545211956495130625: {\"created_at\": \"2022-07-08T01:03:33.000Z\", \"id\": 1545211956495130625, \"text\": \"@OmarAlghabra @AirCanada You have to return to the operations that were in place in 2019 and prior. Eliminate all mandates, apps, and restrictions. Offer an olive branch to all those employees you fired. More rules and regulations just cause delays. Everyone knows that and so should you.\", \"airline\": \"aircanada\"}\n",
      "Producing record: 1545211910630817792: {\"created_at\": \"2022-07-08T01:03:22.000Z\", \"id\": 1545211910630817792, \"text\": \"RT @SamS96095050: @AirCanada Hello Air Canada, i made a complaint on June 22 but no one have even replied. Could you please at least reply?\\u2026\", \"airline\": \"aircanada\"}\n",
      "Produced record to topic twitter-data-test partition [0] @ offset 95\n",
      "Produced record to topic twitter-data-test partition [0] @ offset 96\n",
      "Produced record to topic twitter-data-test partition [0] @ offset 97\n",
      "Produced record to topic twitter-data-test partition [0] @ offset 98\n",
      "Produced record to topic twitter-data-test partition [0] @ offset 99\n",
      "80 messages were produced to topic twitter-data-test!\n"
     ]
    },
    {
     "ename": "KeyboardInterrupt",
     "evalue": "",
     "output_type": "error",
     "traceback": [
      "\u001b[0;31m---------------------------------------------------------------------------\u001b[0m",
      "\u001b[0;31mKeyboardInterrupt\u001b[0m                         Traceback (most recent call last)",
      "\u001b[1;32m/Users/eduardo@yalo.com/Develop/Conestoga/Second Term/Case Studies/Airline/code/SENG8080-Airline-sentiment-analysis/p3-tweets-producer.ipynb Cell 6\u001b[0m in \u001b[0;36m<cell line: 4>\u001b[0;34m()\u001b[0m\n\u001b[1;32m     <a href='vscode-notebook-cell:/Users/eduardo%40yalo.com/Develop/Conestoga/Second%20Term/Case%20Studies/Airline/code/SENG8080-Airline-sentiment-analysis/p3-tweets-producer.ipynb#ch0000004?line=14'>15</a>\u001b[0m         gen \u001b[39m=\u001b[39m sample_data(airline, data_file, sample_size\u001b[39m=\u001b[39m\u001b[39m5\u001b[39m)\n\u001b[1;32m     <a href='vscode-notebook-cell:/Users/eduardo%40yalo.com/Develop/Conestoga/Second%20Term/Case%20Studies/Airline/code/SENG8080-Airline-sentiment-analysis/p3-tweets-producer.ipynb#ch0000004?line=16'>17</a>\u001b[0m         producer\u001b[39m.\u001b[39mproduce(gen)\n\u001b[0;32m---> <a href='vscode-notebook-cell:/Users/eduardo%40yalo.com/Develop/Conestoga/Second%20Term/Case%20Studies/Airline/code/SENG8080-Airline-sentiment-analysis/p3-tweets-producer.ipynb#ch0000004?line=18'>19</a>\u001b[0m time\u001b[39m.\u001b[39;49msleep(\u001b[39m60\u001b[39;49m)\n",
      "\u001b[0;31mKeyboardInterrupt\u001b[0m: "
     ]
    }
   ],
   "source": [
    "data_path = './fresh_data/'\n",
    "\n",
    "while True:\n",
    "    for (_, _, filenames) in walk(data_path):\n",
    "        for f in filenames:\n",
    "            matched = re.match(r'([a-z]*)_', f)\n",
    "\n",
    "            if not matched:\n",
    "                print(f\"{f} is not a valid file skipping\")\n",
    "                continue\n",
    "            \n",
    "            airline = matched.groups()[0]\n",
    "            data_file = join(data_path, f)\n",
    "            \n",
    "            gen = sample_data(airline, data_file, sample_size=5)\n",
    "\n",
    "            producer.produce(gen)\n",
    "\n",
    "    time.sleep(60)\n",
    "\n"
   ]
  },
  {
   "cell_type": "markdown",
   "metadata": {},
   "source": [
    "## Sample data preliminary results\n",
    "\n",
    "Once we've got the sample data being produced and sending messages into Elasticsearch by running three notebooks at the same time, we can check the results in the dashboard created so far.\n",
    "\n",
    "![All Engines running](./imgs/all-running.png \"Both Consumers and producers running\")\n",
    "\n",
    "The above screenshot shows the consumers running while the Tweets from the sample data is running\n",
    "\n",
    "![Sentiments Dashboard](./imgs/sentiments-dashboard.png \"Sentiment Analysis Dashboard in Kibana\")\n",
    "\n",
    "The above screenshot shows the Kibana dashboard with the data being recorded and grouped."
   ]
  },
  {
   "cell_type": "markdown",
   "metadata": {},
   "source": [
    "## Live Sentiment analysis\n",
    "\n",
    "The last step is to run the retrieve new tweets, this time directly from Twitter's and send it into the producer as it was done above."
   ]
  },
  {
   "cell_type": "code",
   "execution_count": 1,
   "metadata": {},
   "outputs": [],
   "source": [
    "from searchtweets import ResultStream, gen_request_parameters, load_credentials"
   ]
  },
  {
   "cell_type": "code",
   "execution_count": 2,
   "metadata": {},
   "outputs": [],
   "source": [
    "search_args = load_credentials(\"./.twitter_keys.yaml\", yaml_key=\"search_tweets_v2\",env_overwrite=False)"
   ]
  },
  {
   "cell_type": "code",
   "execution_count": 3,
   "metadata": {},
   "outputs": [
    {
     "name": "stdout",
     "output_type": "stream",
     "text": [
      "{\"query\": \"@United\", \"max_results\": 10, \"tweet.fields\": \"created_at\"}\n"
     ]
    }
   ],
   "source": [
    "query = gen_request_parameters(\"@United\", results_per_call=10, granularity=None, tweet_fields='created_at')\n",
    "print(query)"
   ]
  },
  {
   "cell_type": "code",
   "execution_count": 4,
   "metadata": {},
   "outputs": [],
   "source": [
    "rs = ResultStream(request_parameters=query, max_results=10, max_pages=1, **search_args)"
   ]
  },
  {
   "cell_type": "code",
   "execution_count": 5,
   "metadata": {},
   "outputs": [],
   "source": [
    "stream = rs.stream()"
   ]
  },
  {
   "cell_type": "markdown",
   "metadata": {},
   "source": [
    "Given that the request is a generator, then we can just call the first next and get fresh tweets from the above mentioned resultstream."
   ]
  },
  {
   "cell_type": "code",
   "execution_count": 7,
   "metadata": {},
   "outputs": [
    {
     "data": {
      "text/plain": [
       "{'data': [{'created_at': '2022-07-28T00:08:10.000Z',\n",
       "   'id': '1552445776558981120',\n",
       "   'text': 'A huge shout out and thank you to the @united gate agents at gate 8 (I believe one was named Daniel) this morning at @JohnWayneAir for working their asses off to get people home today! Good service should be recognized when people have to work under pressure.'},\n",
       "  {'created_at': '2022-07-28T00:07:56.000Z',\n",
       "   'id': '1552445715158568960',\n",
       "   'text': '@TIA_EWING @united Some of them businessmen are just NASTY!'},\n",
       "  {'created_at': '2022-07-28T00:07:51.000Z',\n",
       "   'id': '1552445697513095171',\n",
       "   'text': 'Flew home on @united’s direct route from Nice to Newark in Polaris! The 767 aircraft has 46 business class seats in a 1-1-1 configuration and it’s very comfortable! ✈️ https://t.co/RsghAghaqw'},\n",
       "  {'created_at': '2022-07-28T00:07:11.000Z',\n",
       "   'id': '1552445527815757827',\n",
       "   'text': '@edccruz @weareunited @united hello how are you doing'},\n",
       "  {'created_at': '2022-07-28T00:06:15.000Z',\n",
       "   'id': '1552445291353501697',\n",
       "   'text': 'RT @AnaneBelkis: and food to eat for the next few days. \\n\\nFinally, I am not surprised to say @United are absolutely useless.'},\n",
       "  {'created_at': '2022-07-28T00:04:04.000Z',\n",
       "   'id': '1552444743082455040',\n",
       "   'text': '@RiffChick @JustSayXtian @JoLuehmann @united But it was bad for a little while. My parents would give me Benadryl before we flew to help me relax.'},\n",
       "  {'created_at': '2022-07-28T00:03:19.000Z',\n",
       "   'id': '1552444556326891520',\n",
       "   'text': '@RiffChick @JustSayXtian @JoLuehmann @united I know what a correct take off/landing looks and sounds like. My therapist also told me to think of turbulence like the dips on some roads that make your stomach drop, and to watch the flight attendants. If they don’t look worried, you don’t need to be worried.'},\n",
       "  {'created_at': '2022-07-28T00:01:30.000Z',\n",
       "   'id': '1552444097646194688',\n",
       "   'text': '@RiffChick @JustSayXtian @JoLuehmann @united Partially I got older. I worked through some trauma that was tangentially related to flying. I also learned more about how planes work. For years I wanted to sit close to the wings/engines not just because it reduces turbulence but also because I would watch them.'},\n",
       "  {'created_at': '2022-07-27T23:58:40.000Z',\n",
       "   'id': '1552443385151377408',\n",
       "   'text': '@ccie5851 @united @columbusairport That’s an understatement!!!'},\n",
       "  {'created_at': '2022-07-27T23:56:24.000Z',\n",
       "   'id': '1552442815636189186',\n",
       "   'text': 'Head in the clouds on @united #chicago https://t.co/WZa8APLpD8'}],\n",
       " 'meta': {'newest_id': '1552445776558981120',\n",
       "  'oldest_id': '1552442815636189186',\n",
       "  'result_count': 10,\n",
       "  'next_token': 'b26v89c19zqg8o3fpz5kym6k27oxlgxcu5pcp9micn6v1'}}"
      ]
     },
     "execution_count": 7,
     "metadata": {},
     "output_type": "execute_result"
    }
   ],
   "source": [
    "next(stream)"
   ]
  },
  {
   "cell_type": "markdown",
   "metadata": {},
   "source": [
    "### Live producer\n",
    "\n",
    "Below is the definition for the live tweet producer, which is somewhat based on the sampler that was seen at the beginning of the notebook, but getting data directly from Twitter's API."
   ]
  },
  {
   "cell_type": "code",
   "execution_count": 12,
   "metadata": {},
   "outputs": [
    {
     "name": "stderr",
     "output_type": "stream",
     "text": [
      "%4|1658968097.717|CONFWARN|rdkafka#producer-9| [thrd:app]: Configuration property session.timeout.ms is a consumer property and will be ignored by this producer instance\n",
      "%4|1658968097.729|CONFWARN|rdkafka#producer-10| [thrd:app]: Configuration property session.timeout.ms is a consumer property and will be ignored by this producer instance\n"
     ]
    },
    {
     "name": "stdout",
     "output_type": "stream",
     "text": [
      "Producing record: 1552450350355185665: {\"created_at\": \"2022-07-28T00:26:21.000Z\", \"id\": \"1552450350355185665\", \"text\": \"The 2pm @united flight from LAX to EWR is delayed because a speaker malfunction. Ok. Delayed to 4pm, then 5, now 6pm. They gave us a $10 food voucher in which not a single thing but juice &amp; candy costs under that. For a 8 hour flight, you\\u2019d think they\\u2019d ensure we can actually eat https://t.co/CqZI6iP5WK\", \"airline\": \"United\"}\n",
      "Producing record: 1552449718206492672: {\"created_at\": \"2022-07-28T00:23:50.000Z\", \"id\": \"1552449718206492672\", \"text\": \"@JoLuehmann @united @united what are you going to do for this amazing mom? Please reply.\", \"airline\": \"United\"}\n",
      "Producing record: 1552449682382766082: {\"created_at\": \"2022-07-28T00:23:42.000Z\", \"id\": \"1552449682382766082\", \"text\": \"RT @AnaneBelkis: I have a flight from TUN to US thru Frankfurt and right when I make it to my layover in Frankfurt, @United texts me that t\\u2026\", \"airline\": \"United\"}\n",
      "Producing record: 1552448848614035456: {\"created_at\": \"2022-07-28T00:20:23.000Z\", \"id\": \"1552448848614035456\", \"text\": \"RT @AnaneBelkis: I have a flight from TUN to US thru Frankfurt and right when I make it to my layover in Frankfurt, @United texts me that t\\u2026\", \"airline\": \"United\"}\n",
      "Producing record: 1552448538654965761: {\"created_at\": \"2022-07-28T00:19:09.000Z\", \"id\": \"1552448538654965761\", \"text\": \"@JoLuehmann @united I got aggravated just reading what you endured. \\nI have to say United has been this way for a long time.  The 2 worst plane trips I've been on were both on United: the going &amp; return legs of the same trip. And that was in 1992. 30 years ago.\", \"airline\": \"United\"}\n",
      "Producing record: 1552447468826140672: {\"created_at\": \"2022-07-28T00:14:54.000Z\", \"id\": \"1552447468826140672\", \"text\": \"@JoLuehmann @united They kicked off a family with a toddler who couldn\\u2019t mask during those asinine restrictions. That\\u2019s when I decided I would never fly @united\", \"airline\": \"United\"}\n",
      "Producing record: 1552447273438957568: {\"created_at\": \"2022-07-28T00:14:07.000Z\", \"id\": \"1552447273438957568\", \"text\": \"RT @JoLuehmann: As per usual @united showed yet again that they do not know how to run a business that offers services to families.\\n\\nI had\\u2026\", \"airline\": \"United\"}\n",
      "Producing record: 1552447214768852993: {\"created_at\": \"2022-07-28T00:13:53.000Z\", \"id\": \"1552447214768852993\", \"text\": \"RT @united: Discover weekly deals from New York/Newark for under $200 roundtrip.\", \"airline\": \"United\"}\n",
      "Producing record: 1552447084254871552: {\"created_at\": \"2022-07-28T00:13:22.000Z\", \"id\": \"1552447084254871552\", \"text\": \"RT @BanhammersWrath: So any chance of my flight actually happening tonight @united or am I sitting in COVID stew at Ohare for no reason?  R\\u2026\", \"airline\": \"United\"}\n",
      "Producing record: 1552446967246118915: {\"created_at\": \"2022-07-28T00:12:54.000Z\", \"id\": \"1552446967246118915\", \"text\": \"@united #StayOnTheGround\", \"airline\": \"United\"}\n",
      "Produced record to topic twitter-data-test partition [0] @ offset 110\n",
      "Produced record to topic twitter-data-test partition [0] @ offset 111\n",
      "Produced record to topic twitter-data-test partition [0] @ offset 112\n",
      "Produced record to topic twitter-data-test partition [0] @ offset 113\n",
      "Produced record to topic twitter-data-test partition [0] @ offset 114\n",
      "Produced record to topic twitter-data-test partition [0] @ offset 115\n",
      "Produced record to topic twitter-data-test partition [0] @ offset 116\n",
      "Produced record to topic twitter-data-test partition [0] @ offset 117\n",
      "Produced record to topic twitter-data-test partition [0] @ offset 118\n",
      "Produced record to topic twitter-data-test partition [0] @ offset 119\n",
      "10 messages were produced to topic twitter-data-test!\n"
     ]
    },
    {
     "ename": "NameError",
     "evalue": "name 'time' is not defined",
     "output_type": "error",
     "traceback": [
      "\u001b[0;31m---------------------------------------------------------------------------\u001b[0m",
      "\u001b[0;31mNameError\u001b[0m                                 Traceback (most recent call last)",
      "\u001b[1;32m/Users/eduardo@yalo.com/Develop/Conestoga/Second Term/Case Studies/Airline/code/SENG8080-Airline-sentiment-analysis/p3-tweets-producer.ipynb Cell 17\u001b[0m in \u001b[0;36m<cell line: 11>\u001b[0;34m()\u001b[0m\n\u001b[1;32m     <a href='vscode-notebook-cell:/Users/eduardo%40yalo.com/Develop/Conestoga/Second%20Term/Case%20Studies/Airline/code/SENG8080-Airline-sentiment-analysis/p3-tweets-producer.ipynb#ch0000017?line=22'>23</a>\u001b[0m     tagged \u001b[39m=\u001b[39m \u001b[39mmap\u001b[39m(tag, tr[\u001b[39m'\u001b[39m\u001b[39mdata\u001b[39m\u001b[39m'\u001b[39m])\n\u001b[1;32m     <a href='vscode-notebook-cell:/Users/eduardo%40yalo.com/Develop/Conestoga/Second%20Term/Case%20Studies/Airline/code/SENG8080-Airline-sentiment-analysis/p3-tweets-producer.ipynb#ch0000017?line=24'>25</a>\u001b[0m     producer\u001b[39m.\u001b[39mproduce(tagged)\n\u001b[0;32m---> <a href='vscode-notebook-cell:/Users/eduardo%40yalo.com/Develop/Conestoga/Second%20Term/Case%20Studies/Airline/code/SENG8080-Airline-sentiment-analysis/p3-tweets-producer.ipynb#ch0000017?line=26'>27</a>\u001b[0m time\u001b[39m.\u001b[39msleep(\u001b[39m60\u001b[39m)\n",
      "\u001b[0;31mNameError\u001b[0m: name 'time' is not defined"
     ]
    }
   ],
   "source": [
    "import sentiment_analysis as sa\n",
    "import functools\n",
    "import time\n",
    "\n",
    "search_args = load_credentials(\"./.twitter_keys.yaml\", yaml_key=\"search_tweets_v2\",env_overwrite=False)\n",
    "\n",
    "producer = sa.BaseProducer('./config.properties', 'twitter-data-test')\n",
    "\n",
    "handlers = [\"United\", \"AmericanAir\", \"SouthwestAir\", \"Delta\", \"alaskaair\", \"AirCanada\", \"WestJet\", \"airtransat\", \"porterairlines\", \"FlairAirlines\"]\n",
    "\n",
    "while True:\n",
    "    for h in handlers:\n",
    "\n",
    "        airline = h\n",
    "        \n",
    "        tws_stream = sa.search_tweets(f\"@{h}\", search_args, results_per_call=10, max_results=10)\n",
    "\n",
    "        tr = next(tws_stream)\n",
    "\n",
    "        def tag(tweet):\n",
    "            tweet['airline'] = airline\n",
    "            return tweet\n",
    "\n",
    "        tagged = map(tag, tr['data'])\n",
    "\n",
    "        producer.produce(tagged)\n",
    "\n",
    "    time.sleep(180)\n",
    "\n"
   ]
  }
 ],
 "metadata": {
  "kernelspec": {
   "display_name": "Python 3.9.13 ('base')",
   "language": "python",
   "name": "python3"
  },
  "language_info": {
   "codemirror_mode": {
    "name": "ipython",
    "version": 3
   },
   "file_extension": ".py",
   "mimetype": "text/x-python",
   "name": "python",
   "nbconvert_exporter": "python",
   "pygments_lexer": "ipython3",
   "version": "3.9.13"
  },
  "orig_nbformat": 4,
  "vscode": {
   "interpreter": {
    "hash": "db52a7dadfe31a2badaec6a7be7fb56ac8c6fe66c68473b9e453c86b55981548"
   }
  }
 },
 "nbformat": 4,
 "nbformat_minor": 2
}
